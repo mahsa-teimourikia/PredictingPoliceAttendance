{
 "cells": [
  {
   "cell_type": "markdown",
   "metadata": {},
   "source": [
    "# 2016 Road Safety - Accidents \n",
    "\n",
    "The goal of this report is to build a model that predicts if a police officer is likely to attend an accident or not using the accidents data provided in: https://data.gov.uk/dataset/cb7ae6f0-4be6-4935-9277-47e5ce24a11f/road-safety-data"
   ]
  },
  {
   "cell_type": "code",
   "execution_count": 1,
   "metadata": {},
   "outputs": [],
   "source": [
    "import pandas as pd\n",
    "import numpy as np\n",
    "pd.options.mode.chained_assignment = None"
   ]
  },
  {
   "cell_type": "code",
   "execution_count": 2,
   "metadata": {},
   "outputs": [],
   "source": [
    "import matplotlib.pyplot as plt\n",
    "import seaborn as sns\n",
    "\n",
    "%matplotlib inline"
   ]
  },
  {
   "cell_type": "code",
   "execution_count": 58,
   "metadata": {},
   "outputs": [],
   "source": [
    "from sklearn.model_selection import train_test_split\n",
    "from sklearn.metrics import classification_report, confusion_matrix\n",
    "from sklearn.metrics import roc_curve, precision_recall_curve, average_precision_score\n",
    "from sklearn.grid_search import GridSearchCV\n",
    "from sklearn.preprocessing import StandardScaler\n",
    "from sklearn import svm\n",
    "from sklearn.neighbors import KNeighborsClassifier"
   ]
  },
  {
   "cell_type": "code",
   "execution_count": 4,
   "metadata": {},
   "outputs": [],
   "source": [
    "from imblearn.under_sampling import RandomUnderSampler\n",
    "from collections import Counter"
   ]
  },
  {
   "cell_type": "markdown",
   "metadata": {},
   "source": [
    "## Importing and analysing the data\n"
   ]
  },
  {
   "cell_type": "code",
   "execution_count": 5,
   "metadata": {},
   "outputs": [],
   "source": [
    "data = pd.read_csv('Accidents_2016.csv', low_memory=False)"
   ]
  },
  {
   "cell_type": "code",
   "execution_count": 6,
   "metadata": {},
   "outputs": [
    {
     "data": {
      "text/html": [
       "<div>\n",
       "<style scoped>\n",
       "    .dataframe tbody tr th:only-of-type {\n",
       "        vertical-align: middle;\n",
       "    }\n",
       "\n",
       "    .dataframe tbody tr th {\n",
       "        vertical-align: top;\n",
       "    }\n",
       "\n",
       "    .dataframe thead th {\n",
       "        text-align: right;\n",
       "    }\n",
       "</style>\n",
       "<table border=\"1\" class=\"dataframe\">\n",
       "  <thead>\n",
       "    <tr style=\"text-align: right;\">\n",
       "      <th></th>\n",
       "      <th>Accident_Index</th>\n",
       "      <th>Location_Easting_OSGR</th>\n",
       "      <th>Location_Northing_OSGR</th>\n",
       "      <th>Longitude</th>\n",
       "      <th>Latitude</th>\n",
       "      <th>Police_Force</th>\n",
       "      <th>Accident_Severity</th>\n",
       "      <th>Number_of_Vehicles</th>\n",
       "      <th>Number_of_Casualties</th>\n",
       "      <th>Date</th>\n",
       "      <th>...</th>\n",
       "      <th>Pedestrian_Crossing-Human_Control</th>\n",
       "      <th>Pedestrian_Crossing-Physical_Facilities</th>\n",
       "      <th>Light_Conditions</th>\n",
       "      <th>Weather_Conditions</th>\n",
       "      <th>Road_Surface_Conditions</th>\n",
       "      <th>Special_Conditions_at_Site</th>\n",
       "      <th>Carriageway_Hazards</th>\n",
       "      <th>Urban_or_Rural_Area</th>\n",
       "      <th>Did_Police_Officer_Attend_Scene_of_Accident</th>\n",
       "      <th>LSOA_of_Accident_Location</th>\n",
       "    </tr>\n",
       "  </thead>\n",
       "  <tbody>\n",
       "    <tr>\n",
       "      <th>0</th>\n",
       "      <td>2016010000005</td>\n",
       "      <td>519310.0</td>\n",
       "      <td>188730.0</td>\n",
       "      <td>-0.279323</td>\n",
       "      <td>51.584754</td>\n",
       "      <td>1</td>\n",
       "      <td>3</td>\n",
       "      <td>2</td>\n",
       "      <td>1</td>\n",
       "      <td>01/11/2016</td>\n",
       "      <td>...</td>\n",
       "      <td>0</td>\n",
       "      <td>0</td>\n",
       "      <td>5</td>\n",
       "      <td>1</td>\n",
       "      <td>1</td>\n",
       "      <td>0</td>\n",
       "      <td>0</td>\n",
       "      <td>1</td>\n",
       "      <td>1</td>\n",
       "      <td>E01000543</td>\n",
       "    </tr>\n",
       "    <tr>\n",
       "      <th>1</th>\n",
       "      <td>2016010000006</td>\n",
       "      <td>551920.0</td>\n",
       "      <td>174560.0</td>\n",
       "      <td>0.184928</td>\n",
       "      <td>51.449595</td>\n",
       "      <td>1</td>\n",
       "      <td>3</td>\n",
       "      <td>1</td>\n",
       "      <td>1</td>\n",
       "      <td>01/11/2016</td>\n",
       "      <td>...</td>\n",
       "      <td>0</td>\n",
       "      <td>0</td>\n",
       "      <td>4</td>\n",
       "      <td>1</td>\n",
       "      <td>1</td>\n",
       "      <td>0</td>\n",
       "      <td>0</td>\n",
       "      <td>1</td>\n",
       "      <td>1</td>\n",
       "      <td>E01000375</td>\n",
       "    </tr>\n",
       "    <tr>\n",
       "      <th>2</th>\n",
       "      <td>2016010000008</td>\n",
       "      <td>505930.0</td>\n",
       "      <td>183850.0</td>\n",
       "      <td>-0.473837</td>\n",
       "      <td>51.543563</td>\n",
       "      <td>1</td>\n",
       "      <td>3</td>\n",
       "      <td>1</td>\n",
       "      <td>1</td>\n",
       "      <td>01/11/2016</td>\n",
       "      <td>...</td>\n",
       "      <td>0</td>\n",
       "      <td>0</td>\n",
       "      <td>4</td>\n",
       "      <td>1</td>\n",
       "      <td>1</td>\n",
       "      <td>0</td>\n",
       "      <td>0</td>\n",
       "      <td>1</td>\n",
       "      <td>1</td>\n",
       "      <td>E01033725</td>\n",
       "    </tr>\n",
       "    <tr>\n",
       "      <th>3</th>\n",
       "      <td>2016010000016</td>\n",
       "      <td>527770.0</td>\n",
       "      <td>168930.0</td>\n",
       "      <td>-0.164442</td>\n",
       "      <td>51.404958</td>\n",
       "      <td>1</td>\n",
       "      <td>3</td>\n",
       "      <td>1</td>\n",
       "      <td>1</td>\n",
       "      <td>01/11/2016</td>\n",
       "      <td>...</td>\n",
       "      <td>0</td>\n",
       "      <td>0</td>\n",
       "      <td>1</td>\n",
       "      <td>1</td>\n",
       "      <td>1</td>\n",
       "      <td>0</td>\n",
       "      <td>0</td>\n",
       "      <td>1</td>\n",
       "      <td>1</td>\n",
       "      <td>E01003379</td>\n",
       "    </tr>\n",
       "    <tr>\n",
       "      <th>4</th>\n",
       "      <td>2016010000018</td>\n",
       "      <td>510740.0</td>\n",
       "      <td>177230.0</td>\n",
       "      <td>-0.406580</td>\n",
       "      <td>51.483139</td>\n",
       "      <td>1</td>\n",
       "      <td>3</td>\n",
       "      <td>2</td>\n",
       "      <td>1</td>\n",
       "      <td>01/11/2016</td>\n",
       "      <td>...</td>\n",
       "      <td>0</td>\n",
       "      <td>0</td>\n",
       "      <td>1</td>\n",
       "      <td>1</td>\n",
       "      <td>1</td>\n",
       "      <td>0</td>\n",
       "      <td>0</td>\n",
       "      <td>1</td>\n",
       "      <td>1</td>\n",
       "      <td>E01002583</td>\n",
       "    </tr>\n",
       "  </tbody>\n",
       "</table>\n",
       "<p>5 rows × 32 columns</p>\n",
       "</div>"
      ],
      "text/plain": [
       "  Accident_Index  Location_Easting_OSGR  Location_Northing_OSGR  Longitude  \\\n",
       "0  2016010000005               519310.0                188730.0  -0.279323   \n",
       "1  2016010000006               551920.0                174560.0   0.184928   \n",
       "2  2016010000008               505930.0                183850.0  -0.473837   \n",
       "3  2016010000016               527770.0                168930.0  -0.164442   \n",
       "4  2016010000018               510740.0                177230.0  -0.406580   \n",
       "\n",
       "    Latitude  Police_Force  Accident_Severity  Number_of_Vehicles  \\\n",
       "0  51.584754             1                  3                   2   \n",
       "1  51.449595             1                  3                   1   \n",
       "2  51.543563             1                  3                   1   \n",
       "3  51.404958             1                  3                   1   \n",
       "4  51.483139             1                  3                   2   \n",
       "\n",
       "   Number_of_Casualties        Date            ...              \\\n",
       "0                     1  01/11/2016            ...               \n",
       "1                     1  01/11/2016            ...               \n",
       "2                     1  01/11/2016            ...               \n",
       "3                     1  01/11/2016            ...               \n",
       "4                     1  01/11/2016            ...               \n",
       "\n",
       "   Pedestrian_Crossing-Human_Control Pedestrian_Crossing-Physical_Facilities  \\\n",
       "0                                  0                                       0   \n",
       "1                                  0                                       0   \n",
       "2                                  0                                       0   \n",
       "3                                  0                                       0   \n",
       "4                                  0                                       0   \n",
       "\n",
       "   Light_Conditions Weather_Conditions  Road_Surface_Conditions  \\\n",
       "0                 5                  1                        1   \n",
       "1                 4                  1                        1   \n",
       "2                 4                  1                        1   \n",
       "3                 1                  1                        1   \n",
       "4                 1                  1                        1   \n",
       "\n",
       "   Special_Conditions_at_Site  Carriageway_Hazards  Urban_or_Rural_Area  \\\n",
       "0                           0                    0                    1   \n",
       "1                           0                    0                    1   \n",
       "2                           0                    0                    1   \n",
       "3                           0                    0                    1   \n",
       "4                           0                    0                    1   \n",
       "\n",
       "   Did_Police_Officer_Attend_Scene_of_Accident  LSOA_of_Accident_Location  \n",
       "0                                            1                  E01000543  \n",
       "1                                            1                  E01000375  \n",
       "2                                            1                  E01033725  \n",
       "3                                            1                  E01003379  \n",
       "4                                            1                  E01002583  \n",
       "\n",
       "[5 rows x 32 columns]"
      ]
     },
     "execution_count": 6,
     "metadata": {},
     "output_type": "execute_result"
    }
   ],
   "source": [
    "data.head()"
   ]
  },
  {
   "cell_type": "code",
   "execution_count": 7,
   "metadata": {
    "scrolled": false
   },
   "outputs": [
    {
     "name": "stdout",
     "output_type": "stream",
     "text": [
      "<class 'pandas.core.frame.DataFrame'>\n",
      "RangeIndex: 136621 entries, 0 to 136620\n",
      "Data columns (total 32 columns):\n",
      "Accident_Index                                 136621 non-null object\n",
      "Location_Easting_OSGR                          136614 non-null float64\n",
      "Location_Northing_OSGR                         136614 non-null float64\n",
      "Longitude                                      136614 non-null float64\n",
      "Latitude                                       136614 non-null float64\n",
      "Police_Force                                   136621 non-null int64\n",
      "Accident_Severity                              136621 non-null int64\n",
      "Number_of_Vehicles                             136621 non-null int64\n",
      "Number_of_Casualties                           136621 non-null int64\n",
      "Date                                           136621 non-null object\n",
      "Day_of_Week                                    136621 non-null int64\n",
      "Time                                           136619 non-null object\n",
      "Local_Authority_(District)                     136621 non-null int64\n",
      "Local_Authority_(Highway)                      136621 non-null object\n",
      "1st_Road_Class                                 136621 non-null int64\n",
      "1st_Road_Number                                136621 non-null int64\n",
      "Road_Type                                      136621 non-null int64\n",
      "Speed_limit                                    136584 non-null float64\n",
      "Junction_Detail                                136621 non-null int64\n",
      "Junction_Control                               136621 non-null int64\n",
      "2nd_Road_Class                                 136621 non-null int64\n",
      "2nd_Road_Number                                136621 non-null int64\n",
      "Pedestrian_Crossing-Human_Control              136621 non-null int64\n",
      "Pedestrian_Crossing-Physical_Facilities        136621 non-null int64\n",
      "Light_Conditions                               136621 non-null int64\n",
      "Weather_Conditions                             136621 non-null int64\n",
      "Road_Surface_Conditions                        136621 non-null int64\n",
      "Special_Conditions_at_Site                     136621 non-null int64\n",
      "Carriageway_Hazards                            136621 non-null int64\n",
      "Urban_or_Rural_Area                            136621 non-null int64\n",
      "Did_Police_Officer_Attend_Scene_of_Accident    136621 non-null int64\n",
      "LSOA_of_Accident_Location                      128270 non-null object\n",
      "dtypes: float64(5), int64(22), object(5)\n",
      "memory usage: 33.4+ MB\n"
     ]
    }
   ],
   "source": [
    "data.info()"
   ]
  },
  {
   "cell_type": "code",
   "execution_count": 8,
   "metadata": {
    "scrolled": true
   },
   "outputs": [
    {
     "data": {
      "text/html": [
       "<div>\n",
       "<style scoped>\n",
       "    .dataframe tbody tr th:only-of-type {\n",
       "        vertical-align: middle;\n",
       "    }\n",
       "\n",
       "    .dataframe tbody tr th {\n",
       "        vertical-align: top;\n",
       "    }\n",
       "\n",
       "    .dataframe thead th {\n",
       "        text-align: right;\n",
       "    }\n",
       "</style>\n",
       "<table border=\"1\" class=\"dataframe\">\n",
       "  <thead>\n",
       "    <tr style=\"text-align: right;\">\n",
       "      <th></th>\n",
       "      <th>Location_Easting_OSGR</th>\n",
       "      <th>Location_Northing_OSGR</th>\n",
       "      <th>Longitude</th>\n",
       "      <th>Latitude</th>\n",
       "      <th>Police_Force</th>\n",
       "      <th>Accident_Severity</th>\n",
       "      <th>Number_of_Vehicles</th>\n",
       "      <th>Number_of_Casualties</th>\n",
       "      <th>Day_of_Week</th>\n",
       "      <th>Local_Authority_(District)</th>\n",
       "      <th>...</th>\n",
       "      <th>2nd_Road_Number</th>\n",
       "      <th>Pedestrian_Crossing-Human_Control</th>\n",
       "      <th>Pedestrian_Crossing-Physical_Facilities</th>\n",
       "      <th>Light_Conditions</th>\n",
       "      <th>Weather_Conditions</th>\n",
       "      <th>Road_Surface_Conditions</th>\n",
       "      <th>Special_Conditions_at_Site</th>\n",
       "      <th>Carriageway_Hazards</th>\n",
       "      <th>Urban_or_Rural_Area</th>\n",
       "      <th>Did_Police_Officer_Attend_Scene_of_Accident</th>\n",
       "    </tr>\n",
       "  </thead>\n",
       "  <tbody>\n",
       "    <tr>\n",
       "      <th>count</th>\n",
       "      <td>136614.000000</td>\n",
       "      <td>1.366140e+05</td>\n",
       "      <td>136614.000000</td>\n",
       "      <td>136614.000000</td>\n",
       "      <td>136621.000000</td>\n",
       "      <td>136621.000000</td>\n",
       "      <td>136621.000000</td>\n",
       "      <td>136621.000000</td>\n",
       "      <td>136621.000000</td>\n",
       "      <td>136621.000000</td>\n",
       "      <td>...</td>\n",
       "      <td>136621.000000</td>\n",
       "      <td>136621.000000</td>\n",
       "      <td>136621.000000</td>\n",
       "      <td>136621.000000</td>\n",
       "      <td>136621.000000</td>\n",
       "      <td>136621.000000</td>\n",
       "      <td>136621.000000</td>\n",
       "      <td>136621.000000</td>\n",
       "      <td>136621.000000</td>\n",
       "      <td>136621.000000</td>\n",
       "    </tr>\n",
       "    <tr>\n",
       "      <th>mean</th>\n",
       "      <td>448699.363169</td>\n",
       "      <td>2.883354e+05</td>\n",
       "      <td>-1.304881</td>\n",
       "      <td>52.482399</td>\n",
       "      <td>29.860402</td>\n",
       "      <td>2.816170</td>\n",
       "      <td>1.848179</td>\n",
       "      <td>1.327644</td>\n",
       "      <td>4.115890</td>\n",
       "      <td>342.786680</td>\n",
       "      <td>...</td>\n",
       "      <td>321.590678</td>\n",
       "      <td>0.011192</td>\n",
       "      <td>0.824375</td>\n",
       "      <td>1.983509</td>\n",
       "      <td>1.553099</td>\n",
       "      <td>1.291697</td>\n",
       "      <td>0.085338</td>\n",
       "      <td>0.055409</td>\n",
       "      <td>1.352508</td>\n",
       "      <td>1.253965</td>\n",
       "    </tr>\n",
       "    <tr>\n",
       "      <th>std</th>\n",
       "      <td>95230.253169</td>\n",
       "      <td>1.570588e+05</td>\n",
       "      <td>1.398947</td>\n",
       "      <td>1.414390</td>\n",
       "      <td>25.252440</td>\n",
       "      <td>0.418152</td>\n",
       "      <td>0.710117</td>\n",
       "      <td>0.789296</td>\n",
       "      <td>1.917292</td>\n",
       "      <td>258.403794</td>\n",
       "      <td>...</td>\n",
       "      <td>1202.759007</td>\n",
       "      <td>0.154659</td>\n",
       "      <td>1.927500</td>\n",
       "      <td>1.676938</td>\n",
       "      <td>1.690541</td>\n",
       "      <td>0.588247</td>\n",
       "      <td>0.654925</td>\n",
       "      <td>0.557042</td>\n",
       "      <td>0.477860</td>\n",
       "      <td>0.464658</td>\n",
       "    </tr>\n",
       "    <tr>\n",
       "      <th>min</th>\n",
       "      <td>76702.000000</td>\n",
       "      <td>1.107500e+04</td>\n",
       "      <td>-7.389809</td>\n",
       "      <td>49.919716</td>\n",
       "      <td>1.000000</td>\n",
       "      <td>1.000000</td>\n",
       "      <td>1.000000</td>\n",
       "      <td>1.000000</td>\n",
       "      <td>1.000000</td>\n",
       "      <td>1.000000</td>\n",
       "      <td>...</td>\n",
       "      <td>-1.000000</td>\n",
       "      <td>-1.000000</td>\n",
       "      <td>-1.000000</td>\n",
       "      <td>-1.000000</td>\n",
       "      <td>-1.000000</td>\n",
       "      <td>-1.000000</td>\n",
       "      <td>-1.000000</td>\n",
       "      <td>-1.000000</td>\n",
       "      <td>1.000000</td>\n",
       "      <td>1.000000</td>\n",
       "    </tr>\n",
       "    <tr>\n",
       "      <th>25%</th>\n",
       "      <td>386355.750000</td>\n",
       "      <td>1.764248e+05</td>\n",
       "      <td>-2.204357</td>\n",
       "      <td>51.473779</td>\n",
       "      <td>6.000000</td>\n",
       "      <td>3.000000</td>\n",
       "      <td>1.000000</td>\n",
       "      <td>1.000000</td>\n",
       "      <td>2.000000</td>\n",
       "      <td>102.000000</td>\n",
       "      <td>...</td>\n",
       "      <td>0.000000</td>\n",
       "      <td>0.000000</td>\n",
       "      <td>0.000000</td>\n",
       "      <td>1.000000</td>\n",
       "      <td>1.000000</td>\n",
       "      <td>1.000000</td>\n",
       "      <td>0.000000</td>\n",
       "      <td>0.000000</td>\n",
       "      <td>1.000000</td>\n",
       "      <td>1.000000</td>\n",
       "    </tr>\n",
       "    <tr>\n",
       "      <th>50%</th>\n",
       "      <td>454126.000000</td>\n",
       "      <td>2.374855e+05</td>\n",
       "      <td>-1.201205</td>\n",
       "      <td>52.025165</td>\n",
       "      <td>30.000000</td>\n",
       "      <td>3.000000</td>\n",
       "      <td>2.000000</td>\n",
       "      <td>1.000000</td>\n",
       "      <td>4.000000</td>\n",
       "      <td>323.000000</td>\n",
       "      <td>...</td>\n",
       "      <td>0.000000</td>\n",
       "      <td>0.000000</td>\n",
       "      <td>0.000000</td>\n",
       "      <td>1.000000</td>\n",
       "      <td>1.000000</td>\n",
       "      <td>1.000000</td>\n",
       "      <td>0.000000</td>\n",
       "      <td>0.000000</td>\n",
       "      <td>1.000000</td>\n",
       "      <td>1.000000</td>\n",
       "    </tr>\n",
       "    <tr>\n",
       "      <th>75%</th>\n",
       "      <td>527660.000000</td>\n",
       "      <td>3.897438e+05</td>\n",
       "      <td>-0.159708</td>\n",
       "      <td>53.401675</td>\n",
       "      <td>45.000000</td>\n",
       "      <td>3.000000</td>\n",
       "      <td>2.000000</td>\n",
       "      <td>1.000000</td>\n",
       "      <td>6.000000</td>\n",
       "      <td>516.000000</td>\n",
       "      <td>...</td>\n",
       "      <td>0.000000</td>\n",
       "      <td>0.000000</td>\n",
       "      <td>0.000000</td>\n",
       "      <td>4.000000</td>\n",
       "      <td>1.000000</td>\n",
       "      <td>2.000000</td>\n",
       "      <td>0.000000</td>\n",
       "      <td>0.000000</td>\n",
       "      <td>2.000000</td>\n",
       "      <td>1.000000</td>\n",
       "    </tr>\n",
       "    <tr>\n",
       "      <th>max</th>\n",
       "      <td>655256.000000</td>\n",
       "      <td>1.178623e+06</td>\n",
       "      <td>1.757858</td>\n",
       "      <td>60.490191</td>\n",
       "      <td>98.000000</td>\n",
       "      <td>3.000000</td>\n",
       "      <td>16.000000</td>\n",
       "      <td>58.000000</td>\n",
       "      <td>7.000000</td>\n",
       "      <td>941.000000</td>\n",
       "      <td>...</td>\n",
       "      <td>9999.000000</td>\n",
       "      <td>2.000000</td>\n",
       "      <td>8.000000</td>\n",
       "      <td>7.000000</td>\n",
       "      <td>9.000000</td>\n",
       "      <td>5.000000</td>\n",
       "      <td>7.000000</td>\n",
       "      <td>7.000000</td>\n",
       "      <td>3.000000</td>\n",
       "      <td>3.000000</td>\n",
       "    </tr>\n",
       "  </tbody>\n",
       "</table>\n",
       "<p>8 rows × 27 columns</p>\n",
       "</div>"
      ],
      "text/plain": [
       "       Location_Easting_OSGR  Location_Northing_OSGR      Longitude  \\\n",
       "count          136614.000000            1.366140e+05  136614.000000   \n",
       "mean           448699.363169            2.883354e+05      -1.304881   \n",
       "std             95230.253169            1.570588e+05       1.398947   \n",
       "min             76702.000000            1.107500e+04      -7.389809   \n",
       "25%            386355.750000            1.764248e+05      -2.204357   \n",
       "50%            454126.000000            2.374855e+05      -1.201205   \n",
       "75%            527660.000000            3.897438e+05      -0.159708   \n",
       "max            655256.000000            1.178623e+06       1.757858   \n",
       "\n",
       "            Latitude   Police_Force  Accident_Severity  Number_of_Vehicles  \\\n",
       "count  136614.000000  136621.000000      136621.000000       136621.000000   \n",
       "mean       52.482399      29.860402           2.816170            1.848179   \n",
       "std         1.414390      25.252440           0.418152            0.710117   \n",
       "min        49.919716       1.000000           1.000000            1.000000   \n",
       "25%        51.473779       6.000000           3.000000            1.000000   \n",
       "50%        52.025165      30.000000           3.000000            2.000000   \n",
       "75%        53.401675      45.000000           3.000000            2.000000   \n",
       "max        60.490191      98.000000           3.000000           16.000000   \n",
       "\n",
       "       Number_of_Casualties    Day_of_Week  Local_Authority_(District)  \\\n",
       "count         136621.000000  136621.000000               136621.000000   \n",
       "mean               1.327644       4.115890                  342.786680   \n",
       "std                0.789296       1.917292                  258.403794   \n",
       "min                1.000000       1.000000                    1.000000   \n",
       "25%                1.000000       2.000000                  102.000000   \n",
       "50%                1.000000       4.000000                  323.000000   \n",
       "75%                1.000000       6.000000                  516.000000   \n",
       "max               58.000000       7.000000                  941.000000   \n",
       "\n",
       "                          ...                       2nd_Road_Number  \\\n",
       "count                     ...                         136621.000000   \n",
       "mean                      ...                            321.590678   \n",
       "std                       ...                           1202.759007   \n",
       "min                       ...                             -1.000000   \n",
       "25%                       ...                              0.000000   \n",
       "50%                       ...                              0.000000   \n",
       "75%                       ...                              0.000000   \n",
       "max                       ...                           9999.000000   \n",
       "\n",
       "       Pedestrian_Crossing-Human_Control  \\\n",
       "count                      136621.000000   \n",
       "mean                            0.011192   \n",
       "std                             0.154659   \n",
       "min                            -1.000000   \n",
       "25%                             0.000000   \n",
       "50%                             0.000000   \n",
       "75%                             0.000000   \n",
       "max                             2.000000   \n",
       "\n",
       "       Pedestrian_Crossing-Physical_Facilities  Light_Conditions  \\\n",
       "count                            136621.000000     136621.000000   \n",
       "mean                                  0.824375          1.983509   \n",
       "std                                   1.927500          1.676938   \n",
       "min                                  -1.000000         -1.000000   \n",
       "25%                                   0.000000          1.000000   \n",
       "50%                                   0.000000          1.000000   \n",
       "75%                                   0.000000          4.000000   \n",
       "max                                   8.000000          7.000000   \n",
       "\n",
       "       Weather_Conditions  Road_Surface_Conditions  \\\n",
       "count       136621.000000            136621.000000   \n",
       "mean             1.553099                 1.291697   \n",
       "std              1.690541                 0.588247   \n",
       "min             -1.000000                -1.000000   \n",
       "25%              1.000000                 1.000000   \n",
       "50%              1.000000                 1.000000   \n",
       "75%              1.000000                 2.000000   \n",
       "max              9.000000                 5.000000   \n",
       "\n",
       "       Special_Conditions_at_Site  Carriageway_Hazards  Urban_or_Rural_Area  \\\n",
       "count               136621.000000        136621.000000        136621.000000   \n",
       "mean                     0.085338             0.055409             1.352508   \n",
       "std                      0.654925             0.557042             0.477860   \n",
       "min                     -1.000000            -1.000000             1.000000   \n",
       "25%                      0.000000             0.000000             1.000000   \n",
       "50%                      0.000000             0.000000             1.000000   \n",
       "75%                      0.000000             0.000000             2.000000   \n",
       "max                      7.000000             7.000000             3.000000   \n",
       "\n",
       "       Did_Police_Officer_Attend_Scene_of_Accident  \n",
       "count                                136621.000000  \n",
       "mean                                      1.253965  \n",
       "std                                       0.464658  \n",
       "min                                       1.000000  \n",
       "25%                                       1.000000  \n",
       "50%                                       1.000000  \n",
       "75%                                       1.000000  \n",
       "max                                       3.000000  \n",
       "\n",
       "[8 rows x 27 columns]"
      ]
     },
     "execution_count": 8,
     "metadata": {},
     "output_type": "execute_result"
    }
   ],
   "source": [
    "data.describe()"
   ]
  },
  {
   "cell_type": "markdown",
   "metadata": {},
   "source": [
    "## Feature Selection\n",
    "\n",
    "Let's first simplify the column names to be able to better understand the exploratory visualizations.\n"
   ]
  },
  {
   "cell_type": "code",
   "execution_count": 9,
   "metadata": {},
   "outputs": [],
   "source": [
    "names = [\"Accident_Index\",\"Location_Easting\",\"Location_Northing\",\n",
    "         \"Longitude\",\"Latitude\",\"Police_Force\",\"Accident_Severity\",\"No_of_Vehicles\",\n",
    "         \"No_of_Casualties\",\"Date\",\"Day_of_Week\",\"Time\",\"Local_Authority_District\",\n",
    "         \"Local_Authority_Highway\",\"First_Road_Class\",\"First_Road_No\",\"Road_Type\",\"Speed_Limit\",\n",
    "         \"Junction_Detail\",\"Junction_Control\",\"Second_Road_Class\",\"Second_Road_Number\",\n",
    "         \"Pedestrian_Crossing_Control\",\"Pedestrian_Crossing_Facilities\",\n",
    "         \"Light_Conditions\",\"Weather_Conditions\",\"Road_Surface_Conditions\",\"Special_Conditions_at_Site\",\n",
    "         \"Carriageway_Hazards\",\"Urban_or_Rural_Area\",\"Police_Attendance\",\"Accident_Location\"]"
   ]
  },
  {
   "cell_type": "code",
   "execution_count": 10,
   "metadata": {},
   "outputs": [],
   "source": [
    "data.columns = names"
   ]
  },
  {
   "cell_type": "markdown",
   "metadata": {},
   "source": [
    "### Excluding features that seem unrelated to the police attendence\n",
    "To get an idea about about the data, I am going to draw a heatmap of the columns. This also helps me to reduce the number of features. As it can be seen in the heatmap below, some features are highly correlated and are not mutually independent, therefore there is no use to use all of them to train the model (e.g., Location_Easting and Longitude). From the heatmap, there doesn't seem to be any meaningful correlations between the features and the police attendence.\n",
    "\n",
    "\n",
    "Taking a look at the documentations of the data, and the data itself, there are some other features that can be excluded as they don't seem to have an effect on police attendence (using common sense). For example, \"Accident Index\" is only a unique identifier of the accident, moreover, there are some data that are mostly related to the cause of the accident itself, such as \"Pedestrian Crossing Control\" and \"Light Conditions\"."
   ]
  },
  {
   "cell_type": "code",
   "execution_count": 11,
   "metadata": {},
   "outputs": [
    {
     "data": {
      "image/png": "[encoded data removed]",
      "text/plain": [
       "<matplotlib.figure.Figure at 0x260ed4d2d68>"
      ]
     },
     "metadata": {},
     "output_type": "display_data"
    }
   ],
   "source": [
    "fig, ax = plt.subplots()\n",
    "fig.set_size_inches(14, 10)\n",
    "ax =sns.heatmap(data.corr())"
   ]
  },
  {
   "cell_type": "markdown",
   "metadata": {},
   "source": [
    "## Data preprocessing and preparation\n",
    "\n",
    "### Handling the null values\n",
    "As there are a lot of samples, to simplify the process I decided to drop the null values.\n",
    "\n",
    "### Handling non-numerical values\n",
    "There are some non-numerical values in the dataset that should be managed:\n",
    "- To handle the date, I will extract the month. The day can be scaped as we already have the day of the weak included in the data set. And the year is always 2016.\n",
    "- To handle the time values, I am going to extract only the hour.\n",
    "- To handle non-numerical categorical values, I will convert them to numerical categories.\n",
    "\n",
    "### Managing the target categories\n",
    "The main question to be answered by the model is to predict if a police officer is likely to attend an accident or not. Looking at the police attendence field of the data there are three categories, 1 representing Yes, 2 representing No, and 3 representing No (the accident was self reported). As the goal is to predict the police attendence the target category can be simplified into a binary value."
   ]
  },
  {
   "cell_type": "code",
   "execution_count": 12,
   "metadata": {},
   "outputs": [],
   "source": [
    "data_no_na = data.dropna()"
   ]
  },
  {
   "cell_type": "code",
   "execution_count": 13,
   "metadata": {},
   "outputs": [],
   "source": [
    "data_no_na['Month']=data_no_na['Date'].apply(lambda x: x.split(\"/\")[1])\n",
    "data_no_na['Hour']=data_no_na['Time'].apply(lambda x: int(x.split(\":\")[0]))"
   ]
  },
  {
   "cell_type": "code",
   "execution_count": 14,
   "metadata": {},
   "outputs": [],
   "source": [
    "data_no_na['Accident_Location'] = data_no_na['Accident_Location'].astype('category')\n",
    "data_no_na['Accident_Location_Cat'] = data_no_na['Accident_Location'].cat.codes\n",
    "\n",
    "data_no_na['Local_Authority_Highway'] = data_no_na['Local_Authority_Highway'].astype('category')\n",
    "data_no_na['Local_Authority_Highway_Cat'] = data_no_na['Local_Authority_Highway'].cat.codes\n",
    "\n",
    "data_no_na['Police_Attendance']= data_no_na['Police_Attendance'].apply(lambda x: 1 if x==1 else 0)"
   ]
  },
  {
   "cell_type": "code",
   "execution_count": 15,
   "metadata": {},
   "outputs": [],
   "source": [
    "features_minimal = data_no_na[[ 'Location_Easting', 'Location_Northing', 'Police_Force', 'Accident_Severity', 'No_of_Vehicles',\n",
    "       'No_of_Casualties', 'Day_of_Week','Local_Authority_District',\n",
    "       'First_Road_Class', 'First_Road_No', 'Road_Type', 'Speed_Limit',\n",
    "       'Junction_Detail', 'Junction_Control', 'Second_Road_Class',\n",
    "       'Second_Road_Number','Weather_Conditions', 'Road_Surface_Conditions',\n",
    "       'Special_Conditions_at_Site', 'Carriageway_Hazards',\n",
    "       'Urban_or_Rural_Area','Month', 'Hour','Accident_Location_Cat','Local_Authority_Highway_Cat']]"
   ]
  },
  {
   "cell_type": "code",
   "execution_count": 16,
   "metadata": {},
   "outputs": [],
   "source": [
    "target = data_no_na['Police_Attendance']"
   ]
  },
  {
   "cell_type": "markdown",
   "metadata": {},
   "source": [
    "## Visualize and Analyse the Results\n",
    "\n",
    "I just use the following functions to visualize and analyse the results of the trained models"
   ]
  },
  {
   "cell_type": "code",
   "execution_count": 61,
   "metadata": {},
   "outputs": [],
   "source": [
    "def plot_confusion_matrix(y_test, y_pred,classes,normalize=False,title='Confusion Matrix',cmap=plt.cm.Blues):\n",
    "    \"\"\"\n",
    "    This function prints and plots the confusion matrix.\n",
    "    Normalization can be applied by setting `normalize=True`.\n",
    "    http://scikit-learn.org/stable/auto_examples/model_selection/plot_confusion_matrix.html\n",
    "    \"\"\"\n",
    "    # Compute confusion matrix\n",
    "    cm = confusion_matrix(y_test, y_pred)\n",
    "\n",
    "    np.set_printoptions(precision=2)\n",
    "\n",
    "    if normalize:\n",
    "        cm = cm.astype('float') / cm.sum(axis=1)[:, np.newaxis]\n",
    "   \n",
    "\n",
    "    plt.imshow(cm, interpolation='nearest', cmap=cmap)\n",
    "    plt.title(title)\n",
    "    plt.colorbar()\n",
    "    plt.grid(False)\n",
    "    tick_marks = np.arange(len(classes))\n",
    "    plt.xticks(tick_marks, classes, rotation=45)\n",
    "    plt.yticks(tick_marks, classes)\n",
    "\n",
    "    fmt = '.2f' if normalize else 'd'\n",
    "    thresh = cm.max() / 2.\n",
    "\n",
    "    for i in range(cm.shape[0]):\n",
    "        for j in range(cm.shape[1]):\n",
    "            plt.text(j, i, format(cm[i, j], fmt),\n",
    "                horizontalalignment=\"center\",\n",
    "                color=\"white\" if cm[i, j] > thresh else \"black\")\n",
    "    \n",
    "    plt.tight_layout()\n",
    "    plt.ylabel('True label')\n",
    "    plt.xlabel('Predicted label')\n",
    "\n",
    "def plot_side_by_side_confusion_matrix(y_test, y_pred):\n",
    "    \"\"\"\n",
    "    Plots the confusion matrix\n",
    "    \"\"\"\n",
    "    plt.figure(figsize=(12,4))\n",
    "    plt.subplot(121)\n",
    "    plot_confusion_matrix(y_test, y_pred, [0,1], normalize=False, title='Confusion Matrix')\n",
    "    plt.subplot(122)\n",
    "    plot_confusion_matrix(y_test, y_pred, [0,1], normalize=True, title='Normalized Confusion Matrix')\n",
    "    \n",
    "def plot_roc_curve(y_test, probs):\n",
    "    \"\"\"\n",
    "    Plots the ROC curve\n",
    "    \"\"\"\n",
    "    fpr, tpr, thresholds = roc_curve(y_test, probs)\n",
    "    plt.plot(fpr, tpr, lw=1)\n",
    "    plt.plot([0, 1], [0, 1], linestyle='--', lw=2, color='r')\n",
    "    plt.xlim([-0.05, 1.05])\n",
    "    plt.ylim([-0.05, 1.05])\n",
    "    plt.xlabel('False Positive Rate')\n",
    "    plt.ylabel('True Positive Rate')\n",
    "    plt.title('ROC')\n",
    "    plt.legend(loc=\"lower right\")\n",
    "\n",
    "def plot_precision_recall_curve(y_test, probs):\n",
    "    \"\"\"\n",
    "    Plots the Precision-Recall Curve\n",
    "    \"\"\"\n",
    "    precision, recall, _ = precision_recall_curve(y_test, probs)\n",
    "    average_precision = average_precision_score(y_test, probs)\n",
    "    plt.step(recall, precision, color='b', alpha=0.2, where='post')\n",
    "    plt.fill_between(recall, precision, step='post', alpha=0.2, color='b')\n",
    "\n",
    "    plt.xlabel('Recall')\n",
    "    plt.ylabel('Precision')\n",
    "    plt.ylim([0.0, 1.05])\n",
    "    plt.xlim([0.0, 1.0])\n",
    "    plt.title('2-class Precision-Recall curve: AP={0:0.2f}'.format(average_precision))"
   ]
  },
  {
   "cell_type": "markdown",
   "metadata": {},
   "source": [
    "# Model Selection\n",
    "\n",
    "First thing to consider is that here we are tackling a binary classification problem, where we have considerable amount of samples and features to train the model.\n",
    "\n",
    "## Linear Support Vector Classification\n",
    "\n",
    "The first model I would like to test on the data is simply the linear SVC.\n",
    "\n",
    "Before spliting the samples into the test and train data, considering that in the samples, most of the times there have been a police attendence, the model could become biased toward this result. Therefore, it seemed that it would be better to use a technique to balance the sampling of the dataset. I used the imbalanced-learn library for this purpose that can be found here: http://contrib.scikit-learn.org/imbalanced-learn/stable/index.html. However, the final results showed that this technique didn't improve the model in terms of the precision and recall.\n",
    "\n",
    "To have this comparison, in the following there is the results of the trained linear SVC with the normal sampling, followed by the same model with the balanced sampling:"
   ]
  },
  {
   "cell_type": "code",
   "execution_count": 17,
   "metadata": {},
   "outputs": [],
   "source": [
    "lin_svc_X_train, lin_svc_X_test, lin_svc_y_train, lin_svc_y_test = train_test_split(features_minimal, target, test_size=0.4, random_state=101)"
   ]
  },
  {
   "cell_type": "code",
   "execution_count": 18,
   "metadata": {},
   "outputs": [],
   "source": [
    "lin_svc_model = svm.LinearSVC()"
   ]
  },
  {
   "cell_type": "code",
   "execution_count": 19,
   "metadata": {},
   "outputs": [
    {
     "data": {
      "text/plain": [
       "LinearSVC(C=1.0, class_weight=None, dual=True, fit_intercept=True,\n",
       "     intercept_scaling=1, loss='squared_hinge', max_iter=1000,\n",
       "     multi_class='ovr', penalty='l2', random_state=None, tol=0.0001,\n",
       "     verbose=0)"
      ]
     },
     "execution_count": 19,
     "metadata": {},
     "output_type": "execute_result"
    }
   ],
   "source": [
    "lin_svc_model.fit(lin_svc_X_train,lin_svc_y_train)"
   ]
  },
  {
   "cell_type": "code",
   "execution_count": 20,
   "metadata": {},
   "outputs": [],
   "source": [
    "lin_svc_predictions = lin_svc_model.predict(lin_svc_X_test)"
   ]
  },
  {
   "cell_type": "code",
   "execution_count": 22,
   "metadata": {},
   "outputs": [
    {
     "name": "stdout",
     "output_type": "stream",
     "text": [
      "[[    0 12593]\n",
      " [    0 38700]]\n"
     ]
    }
   ],
   "source": [
    "print(confusion_matrix(lin_svc_y_test,lin_svc_predictions))"
   ]
  },
  {
   "cell_type": "code",
   "execution_count": 23,
   "metadata": {},
   "outputs": [
    {
     "name": "stdout",
     "output_type": "stream",
     "text": [
      "             precision    recall  f1-score   support\n",
      "\n",
      "          0       0.00      0.00      0.00     12593\n",
      "          1       0.75      1.00      0.86     38700\n",
      "\n",
      "avg / total       0.57      0.75      0.65     51293\n",
      "\n"
     ]
    },
    {
     "name": "stderr",
     "output_type": "stream",
     "text": [
      "C:\\Users\\Mahsa\\Anaconda35\\lib\\site-packages\\sklearn\\metrics\\classification.py:1135: UndefinedMetricWarning: Precision and F-score are ill-defined and being set to 0.0 in labels with no predicted samples.\n",
      "  'precision', 'predicted', average, warn_for)\n"
     ]
    }
   ],
   "source": [
    "print(classification_report(lin_svc_y_test,lin_svc_predictions))"
   ]
  },
  {
   "cell_type": "markdown",
   "metadata": {},
   "source": [
    "Now using the balanced sampling:"
   ]
  },
  {
   "cell_type": "code",
   "execution_count": 27,
   "metadata": {
    "scrolled": true
   },
   "outputs": [
    {
     "name": "stdout",
     "output_type": "stream",
     "text": [
      "[(0, 31589), (1, 31589)]\n"
     ]
    }
   ],
   "source": [
    "rus = RandomUnderSampler(random_state=0)\n",
    "X_resampled, y_resampled = rus.fit_sample(features_minimal, target)\n",
    "print(sorted(Counter(y_resampled).items()))"
   ]
  },
  {
   "cell_type": "code",
   "execution_count": 28,
   "metadata": {},
   "outputs": [],
   "source": [
    "balanced_X_train, balanced_X_test, balanced_y_train, balanced_y_test = train_test_split(X_resampled, y_resampled, test_size=0.4, random_state=101)"
   ]
  },
  {
   "cell_type": "code",
   "execution_count": 29,
   "metadata": {},
   "outputs": [],
   "source": [
    "lin_svc_balanced_model = svm.LinearSVC()"
   ]
  },
  {
   "cell_type": "code",
   "execution_count": 30,
   "metadata": {},
   "outputs": [
    {
     "data": {
      "text/plain": [
       "LinearSVC(C=1.0, class_weight=None, dual=True, fit_intercept=True,\n",
       "     intercept_scaling=1, loss='squared_hinge', max_iter=1000,\n",
       "     multi_class='ovr', penalty='l2', random_state=None, tol=0.0001,\n",
       "     verbose=0)"
      ]
     },
     "execution_count": 30,
     "metadata": {},
     "output_type": "execute_result"
    }
   ],
   "source": [
    "lin_svc_balanced_model.fit(balanced_X_train,balanced_y_train)"
   ]
  },
  {
   "cell_type": "code",
   "execution_count": 31,
   "metadata": {},
   "outputs": [],
   "source": [
    "lin_svc_balanced_predictions = lin_svc_balanced_model.predict(balanced_X_test)"
   ]
  },
  {
   "cell_type": "code",
   "execution_count": 32,
   "metadata": {
    "scrolled": true
   },
   "outputs": [
    {
     "name": "stdout",
     "output_type": "stream",
     "text": [
      "[[12693     0]\n",
      " [12579     0]]\n"
     ]
    }
   ],
   "source": [
    "print(confusion_matrix(balanced_y_test,lin_svc_balanced_predictions))"
   ]
  },
  {
   "cell_type": "code",
   "execution_count": 33,
   "metadata": {
    "scrolled": true
   },
   "outputs": [
    {
     "name": "stdout",
     "output_type": "stream",
     "text": [
      "             precision    recall  f1-score   support\n",
      "\n",
      "          0       0.50      1.00      0.67     12693\n",
      "          1       0.00      0.00      0.00     12579\n",
      "\n",
      "avg / total       0.25      0.50      0.34     25272\n",
      "\n"
     ]
    },
    {
     "name": "stderr",
     "output_type": "stream",
     "text": [
      "C:\\Users\\Mahsa\\Anaconda35\\lib\\site-packages\\sklearn\\metrics\\classification.py:1135: UndefinedMetricWarning: Precision and F-score are ill-defined and being set to 0.0 in labels with no predicted samples.\n",
      "  'precision', 'predicted', average, warn_for)\n"
     ]
    }
   ],
   "source": [
    "print(classification_report(balanced_y_test,lin_svc_balanced_predictions))"
   ]
  },
  {
   "cell_type": "markdown",
   "metadata": {},
   "source": [
    "## Improving the model using GridSearchCV\n",
    "To tune the model to get better results I would use GridSearchCV on the 'C' parameter of the Linear SVC model."
   ]
  },
  {
   "cell_type": "code",
   "execution_count": 34,
   "metadata": {},
   "outputs": [],
   "source": [
    "param_grid = {'C':[1,10,100,1000]}"
   ]
  },
  {
   "cell_type": "code",
   "execution_count": 35,
   "metadata": {},
   "outputs": [],
   "source": [
    "grid = GridSearchCV(svm.LinearSVC(),param_grid,verbose=3)"
   ]
  },
  {
   "cell_type": "code",
   "execution_count": 36,
   "metadata": {},
   "outputs": [
    {
     "name": "stdout",
     "output_type": "stream",
     "text": [
      "Fitting 3 folds for each of 4 candidates, totalling 12 fits\n",
      "[CV] C=1 .............................................................\n",
      "[CV] .................................... C=1, score=0.753110 -  18.0s\n",
      "[CV] C=1 .............................................................\n"
     ]
    },
    {
     "name": "stderr",
     "output_type": "stream",
     "text": [
      "[Parallel(n_jobs=1)]: Done   1 out of   1 | elapsed:   18.0s remaining:    0.0s\n"
     ]
    },
    {
     "name": "stdout",
     "output_type": "stream",
     "text": [
      "[CV] .................................... C=1, score=0.753100 -  18.2s\n",
      "[CV] C=1 .............................................................\n"
     ]
    },
    {
     "name": "stderr",
     "output_type": "stream",
     "text": [
      "[Parallel(n_jobs=1)]: Done   2 out of   2 | elapsed:   36.2s remaining:    0.0s\n"
     ]
    },
    {
     "name": "stdout",
     "output_type": "stream",
     "text": [
      "[CV] .................................... C=1, score=0.250565 -  17.1s\n",
      "[CV] C=10 ............................................................\n",
      "[CV] ................................... C=10, score=0.753110 -  17.1s\n",
      "[CV] C=10 ............................................................\n",
      "[CV] ................................... C=10, score=0.753100 -  17.0s\n",
      "[CV] C=10 ............................................................\n",
      "[CV] ................................... C=10, score=0.753100 -  16.4s\n",
      "[CV] C=100 ...........................................................\n",
      "[CV] .................................. C=100, score=0.753110 -  16.8s\n",
      "[CV] C=100 ...........................................................\n",
      "[CV] .................................. C=100, score=0.246978 -  16.8s\n",
      "[CV] C=100 ...........................................................\n",
      "[CV] .................................. C=100, score=0.753100 -  16.8s\n",
      "[CV] C=1000 ..........................................................\n",
      "[CV] ................................. C=1000, score=0.753110 -  16.9s\n",
      "[CV] C=1000 ..........................................................\n",
      "[CV] ................................. C=1000, score=0.753100 -  17.1s\n",
      "[CV] C=1000 ..........................................................\n",
      "[CV] ................................. C=1000, score=0.247563 -  16.7s\n"
     ]
    },
    {
     "name": "stderr",
     "output_type": "stream",
     "text": [
      "[Parallel(n_jobs=1)]: Done  12 out of  12 | elapsed:  3.4min finished\n"
     ]
    },
    {
     "data": {
      "text/plain": [
       "GridSearchCV(cv=None, error_score='raise',\n",
       "       estimator=LinearSVC(C=1.0, class_weight=None, dual=True, fit_intercept=True,\n",
       "     intercept_scaling=1, loss='squared_hinge', max_iter=1000,\n",
       "     multi_class='ovr', penalty='l2', random_state=None, tol=0.0001,\n",
       "     verbose=0),\n",
       "       fit_params={}, iid=True, n_jobs=1,\n",
       "       param_grid={'C': [1, 10, 100, 1000]}, pre_dispatch='2*n_jobs',\n",
       "       refit=True, scoring=None, verbose=3)"
      ]
     },
     "execution_count": 36,
     "metadata": {},
     "output_type": "execute_result"
    }
   ],
   "source": [
    "grid.fit(lin_svc_X_train,lin_svc_y_train)"
   ]
  },
  {
   "cell_type": "code",
   "execution_count": 37,
   "metadata": {},
   "outputs": [
    {
     "data": {
      "text/plain": [
       "{'C': 10}"
      ]
     },
     "execution_count": 37,
     "metadata": {},
     "output_type": "execute_result"
    }
   ],
   "source": [
    "grid.best_params_"
   ]
  },
  {
   "cell_type": "code",
   "execution_count": 38,
   "metadata": {},
   "outputs": [],
   "source": [
    "grid_predictions = grid.predict(lin_svc_X_test)"
   ]
  },
  {
   "cell_type": "code",
   "execution_count": 39,
   "metadata": {},
   "outputs": [
    {
     "name": "stdout",
     "output_type": "stream",
     "text": [
      "[[ 2299 10294]\n",
      " [ 7688 31012]]\n"
     ]
    }
   ],
   "source": [
    "print(confusion_matrix(lin_svc_y_test, grid_predictions))"
   ]
  },
  {
   "cell_type": "code",
   "execution_count": 40,
   "metadata": {
    "scrolled": false
   },
   "outputs": [
    {
     "name": "stdout",
     "output_type": "stream",
     "text": [
      "             precision    recall  f1-score   support\n",
      "\n",
      "          0       0.23      0.18      0.20     12593\n",
      "          1       0.75      0.80      0.78     38700\n",
      "\n",
      "avg / total       0.62      0.65      0.63     51293\n",
      "\n"
     ]
    }
   ],
   "source": [
    "print(classification_report(lin_svc_y_test, grid_predictions))"
   ]
  },
  {
   "cell_type": "markdown",
   "metadata": {},
   "source": [
    "## Analysing the Results\n",
    "\n",
    "As it can be seen in the results, using the GridSearchCV to tune the 'C' parameter, the model have improved in both recall and precision.\n"
   ]
  },
  {
   "cell_type": "markdown",
   "metadata": {},
   "source": [
    "## K-Nearest Neighbors Classification\n",
    "\n",
    "As the results of the linear SVC model didn't seem very satisfying, I would also train a KNN classifier to compare the results. To start with, the samples should be scaled to be used for training the model."
   ]
  },
  {
   "cell_type": "code",
   "execution_count": 41,
   "metadata": {},
   "outputs": [],
   "source": [
    "scaler = StandardScaler()"
   ]
  },
  {
   "cell_type": "code",
   "execution_count": 42,
   "metadata": {},
   "outputs": [
    {
     "data": {
      "text/plain": [
       "StandardScaler(copy=True, with_mean=True, with_std=True)"
      ]
     },
     "execution_count": 42,
     "metadata": {},
     "output_type": "execute_result"
    }
   ],
   "source": [
    "scaler.fit(features_minimal)"
   ]
  },
  {
   "cell_type": "code",
   "execution_count": 43,
   "metadata": {},
   "outputs": [],
   "source": [
    "scaled_features  = scaler.transform(features_minimal)"
   ]
  },
  {
   "cell_type": "code",
   "execution_count": 44,
   "metadata": {},
   "outputs": [],
   "source": [
    "knn_features = pd.DataFrame(scaled_features, columns=features_minimal.columns)"
   ]
  },
  {
   "cell_type": "code",
   "execution_count": 45,
   "metadata": {},
   "outputs": [
    {
     "data": {
      "text/html": [
       "<div>\n",
       "<style scoped>\n",
       "    .dataframe tbody tr th:only-of-type {\n",
       "        vertical-align: middle;\n",
       "    }\n",
       "\n",
       "    .dataframe tbody tr th {\n",
       "        vertical-align: top;\n",
       "    }\n",
       "\n",
       "    .dataframe thead th {\n",
       "        text-align: right;\n",
       "    }\n",
       "</style>\n",
       "<table border=\"1\" class=\"dataframe\">\n",
       "  <thead>\n",
       "    <tr style=\"text-align: right;\">\n",
       "      <th></th>\n",
       "      <th>Location_Easting</th>\n",
       "      <th>Location_Northing</th>\n",
       "      <th>Police_Force</th>\n",
       "      <th>Accident_Severity</th>\n",
       "      <th>No_of_Vehicles</th>\n",
       "      <th>No_of_Casualties</th>\n",
       "      <th>Day_of_Week</th>\n",
       "      <th>Local_Authority_District</th>\n",
       "      <th>First_Road_Class</th>\n",
       "      <th>First_Road_No</th>\n",
       "      <th>...</th>\n",
       "      <th>Second_Road_Number</th>\n",
       "      <th>Weather_Conditions</th>\n",
       "      <th>Road_Surface_Conditions</th>\n",
       "      <th>Special_Conditions_at_Site</th>\n",
       "      <th>Carriageway_Hazards</th>\n",
       "      <th>Urban_or_Rural_Area</th>\n",
       "      <th>Month</th>\n",
       "      <th>Hour</th>\n",
       "      <th>Accident_Location_Cat</th>\n",
       "      <th>Local_Authority_Highway_Cat</th>\n",
       "    </tr>\n",
       "  </thead>\n",
       "  <tbody>\n",
       "    <tr>\n",
       "      <th>0</th>\n",
       "      <td>0.683934</td>\n",
       "      <td>-0.604541</td>\n",
       "      <td>-1.260057</td>\n",
       "      <td>0.438021</td>\n",
       "      <td>0.206673</td>\n",
       "      <td>-0.4157</td>\n",
       "      <td>-0.582039</td>\n",
       "      <td>-1.269233</td>\n",
       "      <td>-0.786517</td>\n",
       "      <td>1.766259</td>\n",
       "      <td>...</td>\n",
       "      <td>-0.271706</td>\n",
       "      <td>-0.324731</td>\n",
       "      <td>-0.484596</td>\n",
       "      <td>-0.127456</td>\n",
       "      <td>-0.098008</td>\n",
       "      <td>-0.727356</td>\n",
       "      <td>1.272953</td>\n",
       "      <td>-2.248847</td>\n",
       "      <td>-1.619029</td>\n",
       "      <td>-0.098459</td>\n",
       "    </tr>\n",
       "    <tr>\n",
       "      <th>1</th>\n",
       "      <td>1.053668</td>\n",
       "      <td>-0.721116</td>\n",
       "      <td>-1.260057</td>\n",
       "      <td>0.438021</td>\n",
       "      <td>-1.204438</td>\n",
       "      <td>-0.4157</td>\n",
       "      <td>-0.582039</td>\n",
       "      <td>-1.315083</td>\n",
       "      <td>-0.786517</td>\n",
       "      <td>-0.414120</td>\n",
       "      <td>...</td>\n",
       "      <td>-0.271706</td>\n",
       "      <td>-0.324731</td>\n",
       "      <td>-0.484596</td>\n",
       "      <td>-0.127456</td>\n",
       "      <td>-0.098008</td>\n",
       "      <td>-0.727356</td>\n",
       "      <td>1.272953</td>\n",
       "      <td>-2.638425</td>\n",
       "      <td>-1.635502</td>\n",
       "      <td>-0.121005</td>\n",
       "    </tr>\n",
       "    <tr>\n",
       "      <th>2</th>\n",
       "      <td>0.532231</td>\n",
       "      <td>-0.644688</td>\n",
       "      <td>-1.260057</td>\n",
       "      <td>0.438021</td>\n",
       "      <td>-1.204438</td>\n",
       "      <td>-0.4157</td>\n",
       "      <td>-0.582039</td>\n",
       "      <td>-1.278403</td>\n",
       "      <td>-0.786517</td>\n",
       "      <td>1.774294</td>\n",
       "      <td>...</td>\n",
       "      <td>3.047956</td>\n",
       "      <td>-0.324731</td>\n",
       "      <td>-0.484596</td>\n",
       "      <td>-0.127456</td>\n",
       "      <td>-0.098008</td>\n",
       "      <td>-0.727356</td>\n",
       "      <td>1.272953</td>\n",
       "      <td>-2.443636</td>\n",
       "      <td>1.517915</td>\n",
       "      <td>0.172095</td>\n",
       "    </tr>\n",
       "    <tr>\n",
       "      <th>3</th>\n",
       "      <td>0.779854</td>\n",
       "      <td>-0.767433</td>\n",
       "      <td>-1.260057</td>\n",
       "      <td>0.438021</td>\n",
       "      <td>-1.204438</td>\n",
       "      <td>-0.4157</td>\n",
       "      <td>-0.582039</td>\n",
       "      <td>-1.296743</td>\n",
       "      <td>-0.786517</td>\n",
       "      <td>-0.408381</td>\n",
       "      <td>...</td>\n",
       "      <td>-0.092511</td>\n",
       "      <td>-0.324731</td>\n",
       "      <td>-0.484596</td>\n",
       "      <td>-0.127456</td>\n",
       "      <td>-0.098008</td>\n",
       "      <td>-0.727356</td>\n",
       "      <td>1.272953</td>\n",
       "      <td>-0.885324</td>\n",
       "      <td>-1.335564</td>\n",
       "      <td>0.329919</td>\n",
       "    </tr>\n",
       "    <tr>\n",
       "      <th>4</th>\n",
       "      <td>0.586767</td>\n",
       "      <td>-0.699150</td>\n",
       "      <td>-1.260057</td>\n",
       "      <td>0.438021</td>\n",
       "      <td>0.206673</td>\n",
       "      <td>-0.4157</td>\n",
       "      <td>-0.582039</td>\n",
       "      <td>-1.282988</td>\n",
       "      <td>-0.786517</td>\n",
       "      <td>-0.353857</td>\n",
       "      <td>...</td>\n",
       "      <td>-0.271706</td>\n",
       "      <td>-0.324731</td>\n",
       "      <td>-0.484596</td>\n",
       "      <td>-0.127456</td>\n",
       "      <td>-0.098008</td>\n",
       "      <td>-0.727356</td>\n",
       "      <td>1.272953</td>\n",
       "      <td>-1.274902</td>\n",
       "      <td>-1.418403</td>\n",
       "      <td>0.194641</td>\n",
       "    </tr>\n",
       "  </tbody>\n",
       "</table>\n",
       "<p>5 rows × 25 columns</p>\n",
       "</div>"
      ],
      "text/plain": [
       "   Location_Easting  Location_Northing  Police_Force  Accident_Severity  \\\n",
       "0          0.683934          -0.604541     -1.260057           0.438021   \n",
       "1          1.053668          -0.721116     -1.260057           0.438021   \n",
       "2          0.532231          -0.644688     -1.260057           0.438021   \n",
       "3          0.779854          -0.767433     -1.260057           0.438021   \n",
       "4          0.586767          -0.699150     -1.260057           0.438021   \n",
       "\n",
       "   No_of_Vehicles  No_of_Casualties  Day_of_Week  Local_Authority_District  \\\n",
       "0        0.206673           -0.4157    -0.582039                 -1.269233   \n",
       "1       -1.204438           -0.4157    -0.582039                 -1.315083   \n",
       "2       -1.204438           -0.4157    -0.582039                 -1.278403   \n",
       "3       -1.204438           -0.4157    -0.582039                 -1.296743   \n",
       "4        0.206673           -0.4157    -0.582039                 -1.282988   \n",
       "\n",
       "   First_Road_Class  First_Road_No             ...               \\\n",
       "0         -0.786517       1.766259             ...                \n",
       "1         -0.786517      -0.414120             ...                \n",
       "2         -0.786517       1.774294             ...                \n",
       "3         -0.786517      -0.408381             ...                \n",
       "4         -0.786517      -0.353857             ...                \n",
       "\n",
       "   Second_Road_Number  Weather_Conditions  Road_Surface_Conditions  \\\n",
       "0           -0.271706           -0.324731                -0.484596   \n",
       "1           -0.271706           -0.324731                -0.484596   \n",
       "2            3.047956           -0.324731                -0.484596   \n",
       "3           -0.092511           -0.324731                -0.484596   \n",
       "4           -0.271706           -0.324731                -0.484596   \n",
       "\n",
       "   Special_Conditions_at_Site  Carriageway_Hazards  Urban_or_Rural_Area  \\\n",
       "0                   -0.127456            -0.098008            -0.727356   \n",
       "1                   -0.127456            -0.098008            -0.727356   \n",
       "2                   -0.127456            -0.098008            -0.727356   \n",
       "3                   -0.127456            -0.098008            -0.727356   \n",
       "4                   -0.127456            -0.098008            -0.727356   \n",
       "\n",
       "      Month      Hour  Accident_Location_Cat  Local_Authority_Highway_Cat  \n",
       "0  1.272953 -2.248847              -1.619029                    -0.098459  \n",
       "1  1.272953 -2.638425              -1.635502                    -0.121005  \n",
       "2  1.272953 -2.443636               1.517915                     0.172095  \n",
       "3  1.272953 -0.885324              -1.335564                     0.329919  \n",
       "4  1.272953 -1.274902              -1.418403                     0.194641  \n",
       "\n",
       "[5 rows x 25 columns]"
      ]
     },
     "execution_count": 45,
     "metadata": {},
     "output_type": "execute_result"
    }
   ],
   "source": [
    "knn_features.head()"
   ]
  },
  {
   "cell_type": "code",
   "execution_count": 46,
   "metadata": {},
   "outputs": [],
   "source": [
    "knn_X_train, knn_X_test, knn_y_train, knn_y_test = train_test_split(knn_features, target, test_size=0.4, random_state=101)"
   ]
  },
  {
   "cell_type": "code",
   "execution_count": 47,
   "metadata": {},
   "outputs": [],
   "source": [
    "knn = KNeighborsClassifier(n_neighbors=1)"
   ]
  },
  {
   "cell_type": "code",
   "execution_count": 48,
   "metadata": {},
   "outputs": [
    {
     "data": {
      "text/plain": [
       "KNeighborsClassifier(algorithm='auto', leaf_size=30, metric='minkowski',\n",
       "           metric_params=None, n_jobs=1, n_neighbors=1, p=2,\n",
       "           weights='uniform')"
      ]
     },
     "execution_count": 48,
     "metadata": {},
     "output_type": "execute_result"
    }
   ],
   "source": [
    "knn.fit(knn_X_train,knn_y_train)"
   ]
  },
  {
   "cell_type": "code",
   "execution_count": 49,
   "metadata": {},
   "outputs": [],
   "source": [
    "knn_predictions = knn.predict(knn_X_test)"
   ]
  },
  {
   "cell_type": "code",
   "execution_count": 50,
   "metadata": {},
   "outputs": [
    {
     "name": "stdout",
     "output_type": "stream",
     "text": [
      "[[ 4635  7958]\n",
      " [ 8442 30258]]\n"
     ]
    }
   ],
   "source": [
    "print(confusion_matrix(knn_y_test,knn_predictions))"
   ]
  },
  {
   "cell_type": "code",
   "execution_count": 51,
   "metadata": {
    "scrolled": true
   },
   "outputs": [
    {
     "name": "stdout",
     "output_type": "stream",
     "text": [
      "             precision    recall  f1-score   support\n",
      "\n",
      "          0       0.35      0.37      0.36     12593\n",
      "          1       0.79      0.78      0.79     38700\n",
      "\n",
      "avg / total       0.68      0.68      0.68     51293\n",
      "\n"
     ]
    }
   ],
   "source": [
    "print(classification_report(knn_y_test,knn_predictions))"
   ]
  },
  {
   "cell_type": "markdown",
   "metadata": {},
   "source": [
    "## Analysis of the Result\n",
    "The results show that on the KNN classifier the precision and recall have improved slightly compared with the linear SVC. To test if the KNN classifier will be improved by adding the number of neighbors, I would train KNN classifiers with the number of neighbors up to 20."
   ]
  },
  {
   "cell_type": "code",
   "execution_count": 52,
   "metadata": {},
   "outputs": [],
   "source": [
    "test_error_rate = list()\n",
    "\n",
    "for i in range(1,20):\n",
    "    knn = KNeighborsClassifier(n_neighbors=i)\n",
    "    knn.fit(knn_X_train,knn_y_train)\n",
    "    knn_pred_i = knn.predict(knn_X_test)\n",
    "    test_error_rate.append(np.mean(knn_pred_i != knn_y_test))"
   ]
  },
  {
   "cell_type": "code",
   "execution_count": 89,
   "metadata": {
    "scrolled": true
   },
   "outputs": [
    {
     "data": {
      "text/plain": [
       "Text(0.5,1,'Error Rate vs. K Value')"
      ]
     },
     "execution_count": 89,
     "metadata": {},
     "output_type": "execute_result"
    },
    {
     "data": {
      "image/png": "[encoded data removed]",
      "text/plain": [
       "<matplotlib.figure.Figure at 0x260868eacc0>"
      ]
     },
     "metadata": {},
     "output_type": "display_data"
    }
   ],
   "source": [
    "plt.figure(figsize=(7,4))\n",
    "plt.plot(range(1,20),test_error_rate,color='blue',linestyle='dashed',marker='o',markerfacecolor='blue',markersize=5)\n",
    "plt.xlabel('K Value')\n",
    "plt.ylabel('Error Rate')\n",
    "plt.title('Error Rate vs. K Value')"
   ]
  },
  {
   "cell_type": "markdown",
   "metadata": {},
   "source": [
    "## Analysing the Results\n",
    "The results show that considering K around 7-9 we should have balance between the test and train error rates. However, the results do not improve much more by adding the K value.\n",
    "\n",
    "(Note: it was better to consider also the train error rate in this evaluation)\n",
    "\n",
    "\n",
    "## The final model\n",
    "\n",
    "Using the analysis, the K value of the KNN classifier is considered to be 9. I would retrain the model with this tuned parameter to compare the results."
   ]
  },
  {
   "cell_type": "code",
   "execution_count": 102,
   "metadata": {
    "scrolled": true
   },
   "outputs": [
    {
     "data": {
      "text/plain": [
       "KNeighborsClassifier(algorithm='auto', leaf_size=30, metric='minkowski',\n",
       "           metric_params=None, n_jobs=1, n_neighbors=9, p=2,\n",
       "           weights='uniform')"
      ]
     },
     "execution_count": 102,
     "metadata": {},
     "output_type": "execute_result"
    }
   ],
   "source": [
    "knn9 = KNeighborsClassifier(n_neighbors=9)\n",
    "knn9.fit(knn_X_train,knn_y_train)"
   ]
  },
  {
   "cell_type": "code",
   "execution_count": 103,
   "metadata": {},
   "outputs": [
    {
     "name": "stdout",
     "output_type": "stream",
     "text": [
      "[[ 2976  9617]\n",
      " [ 3118 35582]]\n",
      "             precision    recall  f1-score   support\n",
      "\n",
      "          0       0.49      0.24      0.32     12593\n",
      "          1       0.79      0.92      0.85     38700\n",
      "\n",
      "avg / total       0.71      0.75      0.72     51293\n",
      "\n"
     ]
    }
   ],
   "source": [
    "knn9_predictions = knn9.predict(knn_X_test)\n",
    "print(confusion_matrix(knn_y_test,knn9_predictions))\n",
    "print(classification_report(knn_y_test,knn9_predictions))"
   ]
  },
  {
   "cell_type": "code",
   "execution_count": 104,
   "metadata": {},
   "outputs": [],
   "source": [
    "knn9_predictions_probs = knn9.predict_proba(knn_X_test)"
   ]
  },
  {
   "cell_type": "code",
   "execution_count": 105,
   "metadata": {
    "scrolled": false
   },
   "outputs": [
    {
     "data": {
      "image/png": "[encoded data removed]",
      "text/plain": [
       "<matplotlib.figure.Figure at 0x26086d30588>"
      ]
     },
     "metadata": {},
     "output_type": "display_data"
    }
   ],
   "source": [
    "plot_side_by_side_confusion_matrix(knn_y_test,knn9_predictions)"
   ]
  },
  {
   "cell_type": "code",
   "execution_count": 106,
   "metadata": {
    "scrolled": true
   },
   "outputs": [
    {
     "name": "stderr",
     "output_type": "stream",
     "text": [
      "No handles with labels found to put in legend.\n"
     ]
    },
    {
     "data": {
      "image/png": "[encoded data removed]",
      "text/plain": [
       "<matplotlib.figure.Figure at 0x260876916d8>"
      ]
     },
     "metadata": {},
     "output_type": "display_data"
    }
   ],
   "source": [
    "plot_roc_curve(knn_y_test, knn9_predictions_probs[:,1])"
   ]
  },
  {
   "cell_type": "code",
   "execution_count": 107,
   "metadata": {
    "scrolled": true
   },
   "outputs": [
    {
     "data": {
      "image/png": "[encoded data removed]",
      "text/plain": [
       "<matplotlib.figure.Figure at 0x26086e03320>"
      ]
     },
     "metadata": {},
     "output_type": "display_data"
    }
   ],
   "source": [
    "plot_precision_recall_curve(knn_y_test, knn9_predictions_probs[:,1])"
   ]
  },
  {
   "cell_type": "markdown",
   "metadata": {},
   "source": [
    "## Analysing the Results\n",
    "\n",
    "The final results show that the precision and recall have imprived significantly. Also the model seem to better predict the non-police attendance targets (considering the improved precision on non police attendence target)."
   ]
  },
  {
   "cell_type": "markdown",
   "metadata": {},
   "source": [
    "## Report\n",
    "\n",
    "### The Approach (Algorithms and Tools)\n",
    "\n",
    "I mainly used the standard Python libraries: Numpy and Pandas for data analysis, Scikit-Learn for machine learning, and Seaborn and Matplotlib for data visualizations.\n",
    "\n",
    "I started by looking at the data and ran some exploratory data analysis to understand the features and their relationships with eachother and with the target. At the next step, I preprocessed, cleaned and prepared the data for being used in fitting the models.\n",
    "\n",
    "To choose a model, first considering that it was a classification problem I took a look on the classification models (Linear SVC, KNN Classifier, SVC, Random Forests, and AdaBoost). I started with the simplest model (Linear SVC) considering that there have been considerable amount of data and features to train. As the results of the Linear SVC were not satisfying (also after trying the Balanced Sampling and the GridSearchCV to tune the model), I moved to the next model on my list which was the KNN classifier. KNN Classifier provided better precision and recal, however the performance suffers because of many features used in the training.\n",
    "\n",
    "\n",
    "\n",
    "### What were the main challenges?\n",
    "\n",
    "The main challenges were the following:\n",
    "- understanding and analysing the data\n",
    "- selecting the features to be used\n",
    "- cleaning and preparing the data\n",
    "- finding the right model \n",
    "- training the models was time consuming, and therefore, there was not much chance to experiment\n",
    "\n",
    "### What insight did you gain from working with the data?\n",
    "The features don't seem to have significant correlation with the target. \n",
    "\n",
    "### How useful is the model?\n",
    "\n",
    "The Linear SVC model provides acceptable precision and recall after tuning the 'C' parameter value. The KNN classifier instead provides better precision and recall but suffers on the performance because of the presence of many features.\n",
    "\n",
    "### What might you do differently if you had more time/resource?\n",
    "\n",
    "I would look at the other related data to see if there are features that can better determine the target. To increase the performance of the KNN classifier, some more features can be removed. Moreover, I would go on analysing other models to understand if any of them would perform better."
   ]
  },
  {
   "cell_type": "code",
   "execution_count": null,
   "metadata": {},
   "outputs": [],
   "source": []
  }
 ],
 "metadata": {
  "kernelspec": {
   "display_name": "Python 3",
   "language": "python",
   "name": "python3"
  },
  "language_info": {
   "codemirror_mode": {
    "name": "ipython",
    "version": 3
   },
   "file_extension": ".py",
   "mimetype": "text/x-python",
   "name": "python",
   "nbconvert_exporter": "python",
   "pygments_lexer": "ipython3",
   "version": "3.6.4"
  }
 },
 "nbformat": 4,
 "nbformat_minor": 2
}
